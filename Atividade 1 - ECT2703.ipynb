{
 "cells": [
  {
   "cell_type": "code",
   "execution_count": 25,
   "metadata": {},
   "outputs": [
    {
     "name": "stdout",
     "output_type": "stream",
     "text": [
      "True\n"
     ]
    }
   ],
   "source": [
    "def primo(x:int) ->bool:\n",
    "    i=x-1\n",
    "    while(True):\n",
    "        if(i==1):\n",
    "            return True\n",
    "        elif(x%i==0):\n",
    "            return False\n",
    "        else:\n",
    "            i=i-1\n",
    "print(primo(7))"
   ]
  },
  {
   "cell_type": "code",
   "execution_count": 23,
   "metadata": {},
   "outputs": [
    {
     "name": "stdout",
     "output_type": "stream",
     "text": [
      "5\n"
     ]
    }
   ],
   "source": [
    "def mdc(a:int, b:int) ->int:\n",
    "    if b==0:\n",
    "        return a\n",
    "    a, b = b, a % b\n",
    "    return mdc(a,b)\n",
    "    \n",
    "print(mdc(70, 25))"
   ]
  },
  {
   "cell_type": "code",
   "execution_count": 26,
   "metadata": {},
   "outputs": [
    {
     "name": "stdout",
     "output_type": "stream",
     "text": [
      "5\n"
     ]
    }
   ],
   "source": [
    "def conta_num(a:int) ->int:\n",
    "    return len(str(a))\n",
    "    \n",
    "print(conta_num(54675))"
   ]
  },
  {
   "cell_type": "code",
   "execution_count": 39,
   "metadata": {},
   "outputs": [
    {
     "name": "stdout",
     "output_type": "stream",
     "text": [
      "Digite uma palavra: asa\n",
      "É palindromo\n"
     ]
    }
   ],
   "source": [
    "def palindromo(palavra:str) -> bool:\n",
    "    if palavra == palavra[::-1]:\n",
    "        return True\n",
    "    return False\n",
    "\n",
    "palavra = input('Digite uma palavra: ').lower().strip().replace(' ', '')\n",
    "\n",
    "print(palindromo(palavra))"
   ]
  },
  {
   "cell_type": "code",
   "execution_count": 40,
   "metadata": {},
   "outputs": [
    {
     "name": "stdout",
     "output_type": "stream",
     "text": [
      "triângulo retângulo\n"
     ]
    }
   ],
   "source": [
    "def triangulo(a:int,b:int,c=int) ->str:\n",
    "    if(a*a==(b*b+c*c)):\n",
    "        return \"triângulo retângulo\"\n",
    "    else:\n",
    "        return \"não triângulo retângulo\"\n",
    "    \n",
    "print(triangulo(5,3,4))"
   ]
  },
  {
   "cell_type": "code",
   "execution_count": 43,
   "metadata": {},
   "outputs": [
    {
     "name": "stdout",
     "output_type": "stream",
     "text": [
      "Digite uma palavra: eduardo\n",
      "EDUARDO\n"
     ]
    }
   ],
   "source": [
    "def maiusculo(palavra:str) -> str:\n",
    "    return palavra.upper()\n",
    "\n",
    "palavra = input('Digite uma palavra: ')\n",
    "\n",
    "print(maiusculo(palavra))"
   ]
  },
  {
   "cell_type": "code",
   "execution_count": 46,
   "metadata": {},
   "outputs": [
    {
     "name": "stdout",
     "output_type": "stream",
     "text": [
      "Digite uma palavra: eduard$\n",
      "True\n"
     ]
    }
   ],
   "source": [
    "def search(palavra:str) -> bool:\n",
    "    if '$' in palavra:\n",
    "        return True\n",
    "    else: \n",
    "        return False\n",
    "\n",
    "palavra = input('Digite uma palavra: ')\n",
    "\n",
    "print(search(palavra))"
   ]
  },
  {
   "cell_type": "code",
   "execution_count": 31,
   "metadata": {},
   "outputs": [
    {
     "name": "stdout",
     "output_type": "stream",
     "text": [
      "Digite um numero: 159789\n",
      "987951\n"
     ]
    }
   ],
   "source": [
    "def inverte(numero:int) -> int:\n",
    "    return numero[::-1]\n",
    "\n",
    "numero = input('Digite um numero: ')\n",
    "\n",
    "print(inverte(numero))"
   ]
  },
  {
   "cell_type": "code",
   "execution_count": null,
   "metadata": {},
   "outputs": [],
   "source": []
  }
 ],
 "metadata": {
  "kernelspec": {
   "display_name": "Python 3",
   "language": "python",
   "name": "python3"
  },
  "language_info": {
   "codemirror_mode": {
    "name": "ipython",
    "version": 3
   },
   "file_extension": ".py",
   "mimetype": "text/x-python",
   "name": "python",
   "nbconvert_exporter": "python",
   "pygments_lexer": "ipython3",
   "version": "3.8.5"
  }
 },
 "nbformat": 4,
 "nbformat_minor": 4
}
