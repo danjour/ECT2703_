{
 "cells": [
  {
   "cell_type": "code",
   "execution_count": 36,
   "metadata": {},
   "outputs": [
    {
     "name": "stdout",
     "output_type": "stream",
     "text": [
      "Não Primo\n"
     ]
    }
   ],
   "source": [
    "def primo(x:int) ->str:\n",
    "    if x%2==1: \n",
    "        return \"Primo\" \n",
    "    else: \n",
    "        return \"Não Primo\"\n",
    "print(primo(4))"
   ]
  },
  {
   "cell_type": "code",
   "execution_count": 37,
   "metadata": {},
   "outputs": [
    {
     "name": "stdout",
     "output_type": "stream",
     "text": [
      "5\n"
     ]
    }
   ],
   "source": [
    "def mdc(a:int, b:int) ->int:\n",
    "    if b==0:\n",
    "        return a\n",
    "    a, b = b, a % b\n",
    "    return mdc(a,b)\n",
    "    \n",
    "print(mdc(70, 25))"
   ]
  },
  {
   "cell_type": "code",
   "execution_count": 38,
   "metadata": {},
   "outputs": [
    {
     "name": "stdout",
     "output_type": "stream",
     "text": [
      "5\n"
     ]
    }
   ],
   "source": [
    "def conta_num(a:int) ->str:\n",
    "    return len(str(a))\n",
    "    \n",
    "print(conta_num(54675))"
   ]
  },
  {
   "cell_type": "code",
   "execution_count": 39,
   "metadata": {},
   "outputs": [
    {
     "name": "stdout",
     "output_type": "stream",
     "text": [
      "Digite uma palavra: asa\n",
      "É palindromo\n"
     ]
    }
   ],
   "source": [
    "def palindromo(palavra:str) -> str:\n",
    "    if palavra == palavra[::-1]:\n",
    "        return \"É palindromo\"\n",
    "    return \"Não palindromo\"\n",
    "\n",
    "palavra = input('Digite uma palavra: ').lower().strip().replace(' ', '')\n",
    "\n",
    "print(palindromo(palavra))"
   ]
  },
  {
   "cell_type": "code",
   "execution_count": 40,
   "metadata": {},
   "outputs": [
    {
     "name": "stdout",
     "output_type": "stream",
     "text": [
      "triângulo retângulo\n"
     ]
    }
   ],
   "source": [
    "def triangulo(a:int,b:int,c=int) ->str:\n",
    "    if(a*a==(b*b+c*c)):\n",
    "        return \"triângulo retângulo\"\n",
    "    else:\n",
    "        return \"não triângulo retângulo\"\n",
    "    \n",
    "print(triangulo(5,3,4))"
   ]
  },
  {
   "cell_type": "code",
   "execution_count": 43,
   "metadata": {},
   "outputs": [
    {
     "name": "stdout",
     "output_type": "stream",
     "text": [
      "Digite uma palavra: eduardo\n",
      "EDUARDO\n"
     ]
    }
   ],
   "source": [
    "def maiusculo(palavra:str) -> str:\n",
    "    return palavra.upper()\n",
    "\n",
    "palavra = input('Digite uma palavra: ')\n",
    "\n",
    "print(maiusculo(palavra))"
   ]
  },
  {
   "cell_type": "code",
   "execution_count": 46,
   "metadata": {},
   "outputs": [
    {
     "name": "stdout",
     "output_type": "stream",
     "text": [
      "Digite uma palavra: eduard$\n",
      "True\n"
     ]
    }
   ],
   "source": [
    "def search(palavra:str) -> bool:\n",
    "    if '$' in palavra:\n",
    "        return True\n",
    "    else: \n",
    "        return False\n",
    "\n",
    "palavra = input('Digite uma palavra: ')\n",
    "\n",
    "print(search(palavra))"
   ]
  },
  {
   "cell_type": "code",
   "execution_count": 48,
   "metadata": {},
   "outputs": [
    {
     "name": "stdout",
     "output_type": "stream",
     "text": [
      "Digite um numero: 123\n",
      "321\n"
     ]
    }
   ],
   "source": [
    "def inverte(numero:int) -> str:\n",
    "    return numero[::-1]\n",
    "\n",
    "numero = input('Digite um numero: ')\n",
    "\n",
    "print(inverte(palavra))"
   ]
  },
  {
   "cell_type": "code",
   "execution_count": null,
   "metadata": {},
   "outputs": [],
   "source": []
  }
 ],
 "metadata": {
  "kernelspec": {
   "display_name": "Python 3",
   "language": "python",
   "name": "python3"
  },
  "language_info": {
   "codemirror_mode": {
    "name": "ipython",
    "version": 3
   },
   "file_extension": ".py",
   "mimetype": "text/x-python",
   "name": "python",
   "nbconvert_exporter": "python",
   "pygments_lexer": "ipython3",
   "version": "3.8.5"
  }
 },
 "nbformat": 4,
 "nbformat_minor": 4
}
