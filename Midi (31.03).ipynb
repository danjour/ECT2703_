{
 "cells": [
  {
   "cell_type": "code",
   "execution_count": 3,
   "metadata": {},
   "outputs": [],
   "source": [
    "from midiutil import MIDIFile"
   ]
  },
  {
   "cell_type": "code",
   "execution_count": 138,
   "metadata": {},
   "outputs": [
    {
     "name": "stdout",
     "output_type": "stream",
     "text": [
      "C4 corresponde a : 60\n",
      "62 corresponde a : D4\n"
     ]
    }
   ],
   "source": [
    "# As notas com sustenido\n",
    "NOTES_FLAT = ['C', 'Db', 'D', 'Eb', 'E', 'F', 'Gb', 'G', 'Ab', 'A', 'Bb', 'B']\n",
    "# As notas com bemol\n",
    "NOTES_SHARP = ['C', 'C#', 'D', 'D#', 'E', 'F', 'F#', 'G', 'G#', 'A', 'A#', 'B']\n",
    "\n",
    "def NoteToMidi(KeyOctave):\n",
    "    # KeyOctave is formatted like 'C#3'\n",
    "    # Fonte: https://stackoverflow.com/questions/13926280/musical-note-string-c-4-f-3-etc-to-midi-note-value-in-python\n",
    "    key = KeyOctave[:-1]  # eg C, Db\n",
    "    octave = KeyOctave[-1]   # eg 3, 4\n",
    "    answer = -1\n",
    "\n",
    "    try:\n",
    "        if 'b' in key:\n",
    "            pos = NOTES_FLAT.index(key)\n",
    "        else:\n",
    "            pos = NOTES_SHARP.index(key)\n",
    "    except:\n",
    "        print('The key is not valid', key)\n",
    "        return answer\n",
    "\n",
    "    answer += pos + 12 * (int(octave) + 1) + 1\n",
    "    return answer\n",
    "\n",
    "def MidiToNote(valor):\n",
    "    '''Transformar um valor Midi a Nota'''\n",
    "    return NOTES_SHARP[valor % 12] + str(valor//12 - 1)\n",
    "\n",
    "def adicionarOitava(nota, oitava):\n",
    "    '''Adiciona a oitava: (\"Gb\",3) --> Gb3 '''\n",
    "    return nota + str(oitava)\n",
    "\n",
    "print(f'C4 corresponde a : {NoteToMidi(\"C4\")}')\n",
    "print(f'62 corresponde a : {MidiToNote(62)}')"
   ]
  },
  {
   "cell_type": "markdown",
   "metadata": {},
   "source": [
    "# Questão 1"
   ]
  },
  {
   "cell_type": "code",
   "execution_count": 171,
   "metadata": {},
   "outputs": [
    {
     "name": "stdout",
     "output_type": "stream",
     "text": [
      "60\n",
      "64\n",
      "65\n",
      "67\n",
      "69\n",
      "71\n",
      "72\n"
     ]
    }
   ],
   "source": [
    "from midiutil import MIDIFile\n",
    "\n",
    "# --------------------------\n",
    "track    = 0  #faixa\n",
    "channel  = 0  # canal\n",
    "time     = 0  # Beat inicial\n",
    "tempo    = 150  # BPM (beats/pulsações por minuto)\n",
    "volume   = 100  # 0-127, (padrão MIDI)\n",
    "arquivo  = \"Questão1.mid\"\n",
    "# --------------------------\n",
    "\n",
    "# Criar um objeto tipo Midi\n",
    "MyMIDI = MIDIFile(1)  # Só um track\n",
    "# No track 0 (o único neste caso), a partir do beat 0 (o primeiro) \n",
    "# o tempo será 60 (60 beats por segundo). \n",
    "MyMIDI.addTempo(track, time, tempo)\n",
    "\n",
    "# Escala de Dó maior (4ta oitava)\n",
    "escalaC=list(itertools.accumulate([2,2,1,2,2,2,1]))\n",
    "Nota=NoteToMidi(\"C4\")\n",
    "Escala = [Nota if i == 0 else Nota+escalaC[i] for i in range(len(escalaC))]\n",
    "escalaC=['C4', 'E4', 'F4', 'G4', 'A4', 'B4', 'C5']\n",
    "# Converter a valores midi\n",
    "for i, n in enumerate(Escala):\n",
    "    print(n)\n",
    "    # Parâmetros: faixa, canal, nota, tempo, duração, volume\n",
    "    MyMIDI.addNote(track, channel, n, i, 1, volume)\n",
    "    \n",
    "    # Note que i toma os valores 0,1,2,3... Isso significa que, \n",
    "    # em cada pulsação teremos uma nota. Como a duração é 1 e o tempo é 60 (beats por minuto), \n",
    "    # cada nota terá uma duração de um segundo. \n",
    "\n",
    "# Escrever a um arquivo\n",
    "with open(arquivo, \"wb\") as output_file:\n",
    "    MyMIDI.writeFile(output_file)\n",
    "    \n",
    "    "
   ]
  },
  {
   "cell_type": "markdown",
   "metadata": {},
   "source": [
    "# Questão 2"
   ]
  },
  {
   "cell_type": "code",
   "execution_count": 211,
   "metadata": {},
   "outputs": [],
   "source": [
    "from midiutil import MIDIFile\n",
    "\n",
    "# --------------------------\n",
    "track    = 0  #faixa\n",
    "channel  = 0  # canal\n",
    "time     = 0  # Beat inicial\n",
    "tempo    = 120  # BPM (beats/pulsações por minuto)\n",
    "volume   = 100  # 0-127, (padrão MIDI)\n",
    "arquivo  = \"Questão2.mid\"\n",
    "# --------------------------\n",
    "\n",
    "# Criar um objeto tipo Midi\n",
    "MyMIDI = MIDIFile(1)  # Só um track\n",
    "# No track 0 (o único neste caso), a partir do beat 0 (o primeiro) \n",
    "# o tempo será 60 (60 beats por segundo). \n",
    "MyMIDI.addTempo(track, time, tempo)\n",
    "\n",
    "escalaMaior=list(itertools.accumulate([2,2,1,2,2,2,1]))\n",
    "escalaMenor=list(itertools.accumulate([2,1,2,2,1,2,2]))\n",
    "Nota=NoteToMidi(\"E4\")\n",
    "EscalaMaior = [Nota if i == 0 else Nota+escalaMaior[i] for i in range(len(escalaMaior))]\n",
    "EscalaMenor = [Nota if j == 0 else Nota+escalaMenor[j] for j in range(len(escalaMenor))]\n",
    "\n",
    "Escala=list(itertools.chain(EscalaMaior,EscalaMenor))\n",
    "Escala.extend(Escala[::-1])\n",
    "# Converter a valores midi\n",
    "for i, n in enumerate(Escala):\n",
    "    MyMIDI.addNote(track, channel, n, i, 1, volume)\n",
    "    \n",
    "    # Note que i toma os valores 0,1,2,3... Isso significa que, \n",
    "    # em cada pulsação teremos uma nota. Como a duração é 1 e o tempo é 60 (beats por minuto), \n",
    "    # cada nota terá uma duração de um segundo. \n",
    "\n",
    "# Escrever a um arquivo\n",
    "with open(arquivo, \"wb\") as output_file:\n",
    "    MyMIDI.writeFile(output_file)\n",
    "    \n",
    "    "
   ]
  },
  {
   "cell_type": "markdown",
   "metadata": {},
   "source": [
    "# Questão 3"
   ]
  },
  {
   "cell_type": "code",
   "execution_count": 464,
   "metadata": {},
   "outputs": [],
   "source": [
    "from collections import namedtuple\n",
    "# Por exemplo NStr(\"C#4\", 2)\n",
    "NStr = namedtuple(\"NStr\", \"nota dur\") \n",
    "# Por exemplo NNum(60, 2)\n",
    "NNum = namedtuple(\"NNum\", \"nota dur\") \n",
    "\n",
    "def toNum(seq):\n",
    "    '''Transforma uma sequência de NStr para NNum '''\n",
    "    return map(lambda x: NNum(NoteToMidi(x.nota), x.dur), seq) "
   ]
  },
  {
   "cell_type": "code",
   "execution_count": 471,
   "metadata": {},
   "outputs": [],
   "source": [
    "def GeradorEscalaMaior(nota):\n",
    "    escalaMaior=list(itertools.accumulate([2,2,1,2,2,2,1]))\n",
    "    Nota=NoteToMidi(nota)\n",
    "    return [Nota if i == 0 else Nota+escalaMaior[i] for i in range(len(escalaMaior))]\n",
    "EscalaMaior=GeradorEscalaMaior(\"C4\")\n",
    "\n",
    "a = 1\n",
    "r = 2\n",
    "length = 7\n",
    "\n",
    "geometric = [a * r ** (n - 1) for n in range(1, length + 1)]\n",
    "geometric1 = [4 * (1/2) ** (n - 1) for n in range(1, length + 1)]\n",
    "\n",
    "\n",
    "j=0\n",
    "EscalaAjustada=[]\n",
    "for i in range(len(geometric)):\n",
    "        while j<geometric[i]:\n",
    "            EscalaAjustada.append(NNum(MidiToNote((EscalaMaior[i])),geometric1[i]))\n",
    "            j=j+1\n",
    "        j=0"
   ]
  },
  {
   "cell_type": "code",
   "execution_count": null,
   "metadata": {},
   "outputs": [],
   "source": []
  },
  {
   "cell_type": "code",
   "execution_count": 472,
   "metadata": {},
   "outputs": [],
   "source": [
    "def tocar(seq, arquivo, tempo=60, volume = 100, track=0, channel=0):\n",
    "    '''Cria um arquivo midi com os valores da sequência (de objetos tipo NNum)'''\n",
    "    MyMIDI = MIDIFile(1)  # Só um track\n",
    "    MyMIDI.addTempo(0, 0, tempo)\n",
    "    t = 0\n",
    "    for n,d in seq:\n",
    "        MyMIDI.addNote(track, channel, n, t, d, volume)\n",
    "        t+=d\n",
    "\n",
    "    with open(arquivo, \"wb\") as output_file:\n",
    "        MyMIDI.writeFile(output_file)\n",
    "\n",
    "tocar(toNum(EscalaAjustada),\"Questão3.mid\")"
   ]
  },
  {
   "cell_type": "markdown",
   "metadata": {},
   "source": [
    "# Questão 4"
   ]
  },
  {
   "cell_type": "code",
   "execution_count": 473,
   "metadata": {},
   "outputs": [],
   "source": [
    "import random\n",
    "def randomseq():\n",
    "    '''Gera uma sequência aleatória de bools'''\n",
    "    while True:\n",
    "        yield random.choice([True, False])"
   ]
  },
  {
   "cell_type": "code",
   "execution_count": 572,
   "metadata": {},
   "outputs": [],
   "source": [
    "notas = [NStr(nota='G4', dur=2), NStr(nota='E4', dur=1), NStr(nota='E4', dur=1), \n",
    "         NStr(nota='F4', dur=2), NStr(nota='D4', dur=1), NStr(nota='D4', dur=1), \n",
    "         NStr(nota='C4', dur=1), NStr(nota='D4', dur=1), NStr(nota='E4', dur=1), NStr(nota='F4', dur=1), \n",
    "         NStr(nota='G4', dur=4), \n",
    "         NStr(nota='G4', dur=1), NStr(nota='G4', dur=1), NStr(nota='E4', dur=1), NStr(nota='E4', dur=1), \n",
    "         NStr(nota='F4', dur=1), NStr(nota='F4', dur=1), NStr(nota='D4', dur=1), NStr(nota='D4', dur=1), \n",
    "         NStr(nota='C4', dur=2), NStr(nota='D4', dur=2), \n",
    "         NStr(nota='C4', dur=4)]"
   ]
  },
  {
   "cell_type": "code",
   "execution_count": 605,
   "metadata": {},
   "outputs": [],
   "source": [
    "note,time=list(zip(*list(notas)))"
   ]
  },
  {
   "cell_type": "code",
   "execution_count": 606,
   "metadata": {},
   "outputs": [],
   "source": [
    "note=list(note)\n",
    "time=list(time)"
   ]
  },
  {
   "cell_type": "code",
   "execution_count": 607,
   "metadata": {},
   "outputs": [],
   "source": [
    "Hora=[time[i]/2 if next(randomseq())==True else time[i] for i in range(len(note))]"
   ]
  },
  {
   "cell_type": "code",
   "execution_count": 613,
   "metadata": {},
   "outputs": [],
   "source": [
    "notas = [NStr(note[i],Hora[i]) for i in range(len(note))]"
   ]
  },
  {
   "cell_type": "code",
   "execution_count": 617,
   "metadata": {},
   "outputs": [],
   "source": [
    "tocar(toNum(notas),\"Questão4.mid\")"
   ]
  },
  {
   "cell_type": "code",
   "execution_count": null,
   "metadata": {},
   "outputs": [],
   "source": []
  }
 ],
 "metadata": {
  "kernelspec": {
   "display_name": "Python 3",
   "language": "python",
   "name": "python3"
  },
  "language_info": {
   "codemirror_mode": {
    "name": "ipython",
    "version": 3
   },
   "file_extension": ".py",
   "mimetype": "text/x-python",
   "name": "python",
   "nbconvert_exporter": "python",
   "pygments_lexer": "ipython3",
   "version": "3.8.5"
  }
 },
 "nbformat": 4,
 "nbformat_minor": 4
}
