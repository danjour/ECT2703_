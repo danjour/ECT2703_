{
 "cells": [
  {
   "cell_type": "code",
   "execution_count": 296,
   "metadata": {},
   "outputs": [],
   "source": [
    "import csv\n",
    "\n",
    "def lerDados(arquivo):\n",
    "    '''Gerar dados desde um arquivo CSV'''\n",
    "    with open(arquivo) as cvsfile:\n",
    "        cr = csv.reader(cvsfile)\n",
    "        _ = next(cr) # Ignoramos a primeira linha com os nomes das coluna\n",
    "        for linha in cr:\n",
    "            yield linha"
   ]
  },
  {
   "cell_type": "code",
   "execution_count": 297,
   "metadata": {},
   "outputs": [],
   "source": [
    "import itertools"
   ]
  },
  {
   "cell_type": "code",
   "execution_count": 298,
   "metadata": {},
   "outputs": [],
   "source": [
    "def ImportarPais(n):\n",
    "    if(n!=\"\"):\n",
    "        return (list(filter(lambda x: x[2]==n, lerDados('owid-covid-data-topicos.csv'))))\n",
    "    else:\n",
    "        return list(lerDados('owid-covid-data-topicos.csv'))\n",
    "    \n",
    "def ImportarContinente(n):\n",
    "    if(n!=\"\"):\n",
    "        return (list(filter(lambda x: x[1]==n, lerDados('owid-covid-data-topicos.csv'))))\n",
    "    else:\n",
    "        \n",
    "        return list(lerDados('owid-covid-data-topicos.csv'))"
   ]
  },
  {
   "cell_type": "code",
   "execution_count": 306,
   "metadata": {},
   "outputs": [],
   "source": [
    "import datetime\n",
    "def Printar(n):\n",
    "    return (list(itertools.islice(arq, 0, n, 1)))\n",
    "\n",
    "def Formato():\n",
    "    return list((map(lambda x: Trans(x[5]), arq)))\n",
    "\n",
    "def Show():\n",
    "    return(((list(map(lambda x: Trans2(x[3]), arq)))))\n",
    "\n",
    "def Trans2(arq):\n",
    "    return datetime.datetime.strptime(arq,'%Y-%m-%d')\n",
    "\n",
    "def Trans(dado):\n",
    "    try:\n",
    "        return int(dado)\n",
    "    except ValueError:\n",
    "        return 0\n",
    "    \n",
    "def Merge(data,valor):\n",
    "    return list(map(lambda x,y:(x,y),data,valor))"
   ]
  },
  {
   "cell_type": "code",
   "execution_count": 307,
   "metadata": {},
   "outputs": [
    {
     "data": {
      "text/plain": [
       "[['ALB', 'Europe', 'Albania', '2020-02-25', '', '', '', ''],\n",
       " ['ALB', 'Europe', 'Albania', '2020-02-26', '', '', '', ''],\n",
       " ['ALB', 'Europe', 'Albania', '2020-02-27', '', '', '', ''],\n",
       " ['ALB', 'Europe', 'Albania', '2020-02-28', '', '', '', ''],\n",
       " ['ALB', 'Europe', 'Albania', '2020-02-29', '', '', '', ''],\n",
       " ['ALB', 'Europe', 'Albania', '2020-03-01', '', '', '', ''],\n",
       " ['ALB', 'Europe', 'Albania', '2020-03-02', '', '', '', ''],\n",
       " ['ALB', 'Europe', 'Albania', '2020-03-03', '', '', '', ''],\n",
       " ['ALB', 'Europe', 'Albania', '2020-03-04', '', '', '', ''],\n",
       " ['ALB', 'Europe', 'Albania', '2020-03-05', '', '', '', ''],\n",
       " ['ALB', 'Europe', 'Albania', '2020-03-06', '', '', '', ''],\n",
       " ['ALB', 'Europe', 'Albania', '2020-03-07', '', '', '', ''],\n",
       " ['ALB', 'Europe', 'Albania', '2020-03-08', '', '', '', ''],\n",
       " ['ALB', 'Europe', 'Albania', '2020-03-09', '2', '2', '', ''],\n",
       " ['ALB', 'Europe', 'Albania', '2020-03-10', '10', '8', '', ''],\n",
       " ['ALB', 'Europe', 'Albania', '2020-03-11', '12', '2', '1', '1'],\n",
       " ['ALB', 'Europe', 'Albania', '2020-03-12', '23', '11', '1', '0'],\n",
       " ['ALB', 'Europe', 'Albania', '2020-03-13', '33', '10', '1', '0'],\n",
       " ['ALB', 'Europe', 'Albania', '2020-03-14', '38', '5', '1', '0'],\n",
       " ['ALB', 'Europe', 'Albania', '2020-03-15', '42', '4', '1', '0']]"
      ]
     },
     "execution_count": 307,
     "metadata": {},
     "output_type": "execute_result"
    }
   ],
   "source": [
    "Printar(20)"
   ]
  },
  {
   "cell_type": "markdown",
   "metadata": {},
   "source": [
    "## Busca na Ásia"
   ]
  },
  {
   "cell_type": "code",
   "execution_count": 286,
   "metadata": {},
   "outputs": [],
   "source": [
    "arq=ImportarContinente('Asia')\n",
    "d1=datetime.datetime.strptime('2021-01-01','%Y-%m-%d')"
   ]
  },
  {
   "cell_type": "code",
   "execution_count": 287,
   "metadata": {},
   "outputs": [],
   "source": [
    "data=Show()\n",
    "valor=Formato()"
   ]
  },
  {
   "cell_type": "code",
   "execution_count": 288,
   "metadata": {},
   "outputs": [],
   "source": [
    "lista=Merge(Show(),Formato())"
   ]
  },
  {
   "cell_type": "code",
   "execution_count": 289,
   "metadata": {},
   "outputs": [],
   "source": [
    "def Seach(arq,d1):\n",
    "    return sum(list([item[1] for item in arq if item[0] == d1]))\n",
    "    "
   ]
  },
  {
   "cell_type": "code",
   "execution_count": 290,
   "metadata": {},
   "outputs": [
    {
     "name": "stdout",
     "output_type": "stream",
     "text": [
      "2021-01-01 00:00:00  =>  76089\n"
     ]
    }
   ],
   "source": [
    "print(d1,\" => \",Seach(lista,d1))"
   ]
  },
  {
   "cell_type": "markdown",
   "metadata": {},
   "source": [
    "# Busca na Europa"
   ]
  },
  {
   "cell_type": "code",
   "execution_count": 291,
   "metadata": {},
   "outputs": [
    {
     "name": "stdout",
     "output_type": "stream",
     "text": [
      "2021-02-02 00:00:00  =>  159485\n"
     ]
    }
   ],
   "source": [
    "arq=ImportarContinente('Europe')\n",
    "d1=datetime.datetime.strptime('2021-02-02','%Y-%m-%d')\n",
    "data=Show()\n",
    "valor=Formato()\n",
    "lista=Merge(Show(),Formato())\n",
    "print(d1,\" => \",Seach(lista,d1))"
   ]
  },
  {
   "cell_type": "code",
   "execution_count": null,
   "metadata": {},
   "outputs": [],
   "source": []
  },
  {
   "cell_type": "code",
   "execution_count": null,
   "metadata": {},
   "outputs": [],
   "source": []
  }
 ],
 "metadata": {
  "kernelspec": {
   "display_name": "Python 3",
   "language": "python",
   "name": "python3"
  },
  "language_info": {
   "codemirror_mode": {
    "name": "ipython",
    "version": 3
   },
   "file_extension": ".py",
   "mimetype": "text/x-python",
   "name": "python",
   "nbconvert_exporter": "python",
   "pygments_lexer": "ipython3",
   "version": "3.8.5"
  }
 },
 "nbformat": 4,
 "nbformat_minor": 4
}
