{
 "cells": [
  {
   "cell_type": "markdown",
   "metadata": {},
   "source": [
    "# Questão 1"
   ]
  },
  {
   "cell_type": "code",
   "execution_count": 11,
   "metadata": {},
   "outputs": [],
   "source": [
    "import csv\n",
    "import itertools\n",
    "import datetime\n",
    "from collections import namedtuple"
   ]
  },
  {
   "cell_type": "code",
   "execution_count": 12,
   "metadata": {},
   "outputs": [],
   "source": [
    "def rowdata():\n",
    "    url = \"owid-covid-data-topicos.csv\"\n",
    "\n",
    "    with open(url) as cvsfile:\n",
    "        cr = csv.reader(cvsfile)\n",
    "        # Utilizar a primera linha com os nomes das colunas\n",
    "        Dado = namedtuple(\"Dado\", next(cr))\n",
    "        for l in cr:\n",
    "            yield Dado(*l)"
   ]
  },
  {
   "cell_type": "code",
   "execution_count": 16,
   "metadata": {},
   "outputs": [],
   "source": [
    "def Trans2(arq):\n",
    "    return datetime.datetime.strptime(arq,'%Y-%m-%d')"
   ]
  },
  {
   "cell_type": "code",
   "execution_count": 14,
   "metadata": {},
   "outputs": [],
   "source": [
    "ini=datetime.datetime.strptime('2021-02-02','%Y-%m-%d')\n",
    "end=datetime.datetime.strptime('2021-02-03','%Y-%m-%d')\n",
    "country=\"Europe\""
   ]
  },
  {
   "cell_type": "code",
   "execution_count": 17,
   "metadata": {},
   "outputs": [],
   "source": [
    "def quest1(ini,end,country):\n",
    "    it = ( (d.date, d.location)\n",
    "             for d in rowdata()\n",
    "             if Trans2(d.date) >=ini\n",
    "                and Trans2(d.date) <= end and d.continent == country)\n",
    "    return it"
   ]
  },
  {
   "cell_type": "code",
   "execution_count": 18,
   "metadata": {},
   "outputs": [
    {
     "data": {
      "text/plain": [
       "[('2021-02-02', 'Albania'),\n",
       " ('2021-02-03', 'Albania'),\n",
       " ('2021-02-02', 'Andorra'),\n",
       " ('2021-02-03', 'Andorra'),\n",
       " ('2021-02-02', 'Austria'),\n",
       " ('2021-02-03', 'Austria'),\n",
       " ('2021-02-02', 'Belarus'),\n",
       " ('2021-02-03', 'Belarus'),\n",
       " ('2021-02-02', 'Belgium'),\n",
       " ('2021-02-03', 'Belgium'),\n",
       " ('2021-02-02', 'Bosnia and Herzegovina'),\n",
       " ('2021-02-03', 'Bosnia and Herzegovina'),\n",
       " ('2021-02-02', 'Bulgaria'),\n",
       " ('2021-02-03', 'Bulgaria'),\n",
       " ('2021-02-02', 'Croatia'),\n",
       " ('2021-02-03', 'Croatia'),\n",
       " ('2021-02-02', 'Cyprus'),\n",
       " ('2021-02-03', 'Cyprus'),\n",
       " ('2021-02-02', 'Czechia'),\n",
       " ('2021-02-03', 'Czechia'),\n",
       " ('2021-02-02', 'Denmark'),\n",
       " ('2021-02-03', 'Denmark'),\n",
       " ('2021-02-02', 'Estonia'),\n",
       " ('2021-02-03', 'Estonia'),\n",
       " ('2021-02-02', 'Faeroe Islands'),\n",
       " ('2021-02-03', 'Faeroe Islands'),\n",
       " ('2021-02-02', 'Finland'),\n",
       " ('2021-02-03', 'Finland'),\n",
       " ('2021-02-02', 'France'),\n",
       " ('2021-02-03', 'France'),\n",
       " ('2021-02-02', 'Germany'),\n",
       " ('2021-02-03', 'Germany'),\n",
       " ('2021-02-02', 'Gibraltar'),\n",
       " ('2021-02-03', 'Gibraltar'),\n",
       " ('2021-02-02', 'Greece'),\n",
       " ('2021-02-03', 'Greece'),\n",
       " ('2021-02-02', 'Guernsey'),\n",
       " ('2021-02-03', 'Guernsey'),\n",
       " ('2021-02-02', 'Hungary'),\n",
       " ('2021-02-03', 'Hungary'),\n",
       " ('2021-02-02', 'Iceland'),\n",
       " ('2021-02-03', 'Iceland'),\n",
       " ('2021-02-02', 'Ireland'),\n",
       " ('2021-02-03', 'Ireland'),\n",
       " ('2021-02-02', 'Isle of Man'),\n",
       " ('2021-02-03', 'Isle of Man'),\n",
       " ('2021-02-02', 'Italy'),\n",
       " ('2021-02-03', 'Italy'),\n",
       " ('2021-02-02', 'Jersey'),\n",
       " ('2021-02-03', 'Jersey'),\n",
       " ('2021-02-02', 'Kosovo'),\n",
       " ('2021-02-03', 'Kosovo'),\n",
       " ('2021-02-02', 'Latvia'),\n",
       " ('2021-02-03', 'Latvia'),\n",
       " ('2021-02-02', 'Liechtenstein'),\n",
       " ('2021-02-03', 'Liechtenstein'),\n",
       " ('2021-02-02', 'Lithuania'),\n",
       " ('2021-02-03', 'Lithuania'),\n",
       " ('2021-02-02', 'Luxembourg'),\n",
       " ('2021-02-03', 'Luxembourg'),\n",
       " ('2021-02-02', 'Malta'),\n",
       " ('2021-02-03', 'Malta'),\n",
       " ('2021-02-02', 'Moldova'),\n",
       " ('2021-02-03', 'Moldova'),\n",
       " ('2021-02-02', 'Monaco'),\n",
       " ('2021-02-03', 'Monaco'),\n",
       " ('2021-02-02', 'Montenegro'),\n",
       " ('2021-02-03', 'Montenegro'),\n",
       " ('2021-02-02', 'Netherlands'),\n",
       " ('2021-02-03', 'Netherlands'),\n",
       " ('2021-02-02', 'North Macedonia'),\n",
       " ('2021-02-03', 'North Macedonia'),\n",
       " ('2021-02-02', 'Norway'),\n",
       " ('2021-02-03', 'Norway'),\n",
       " ('2021-02-02', 'Poland'),\n",
       " ('2021-02-03', 'Poland'),\n",
       " ('2021-02-02', 'Portugal'),\n",
       " ('2021-02-03', 'Portugal'),\n",
       " ('2021-02-02', 'Romania'),\n",
       " ('2021-02-03', 'Romania'),\n",
       " ('2021-02-02', 'Russia'),\n",
       " ('2021-02-03', 'Russia'),\n",
       " ('2021-02-02', 'San Marino'),\n",
       " ('2021-02-03', 'San Marino'),\n",
       " ('2021-02-02', 'Serbia'),\n",
       " ('2021-02-03', 'Serbia'),\n",
       " ('2021-02-02', 'Slovakia'),\n",
       " ('2021-02-03', 'Slovakia'),\n",
       " ('2021-02-02', 'Slovenia'),\n",
       " ('2021-02-03', 'Slovenia'),\n",
       " ('2021-02-02', 'Spain'),\n",
       " ('2021-02-03', 'Spain'),\n",
       " ('2021-02-02', 'Sweden'),\n",
       " ('2021-02-03', 'Sweden'),\n",
       " ('2021-02-02', 'Switzerland'),\n",
       " ('2021-02-03', 'Switzerland'),\n",
       " ('2021-02-02', 'Ukraine'),\n",
       " ('2021-02-03', 'Ukraine'),\n",
       " ('2021-02-02', 'United Kingdom'),\n",
       " ('2021-02-03', 'United Kingdom'),\n",
       " ('2021-02-02', 'Vatican'),\n",
       " ('2021-02-03', 'Vatican')]"
      ]
     },
     "execution_count": 18,
     "metadata": {},
     "output_type": "execute_result"
    }
   ],
   "source": [
    "list(quest1(ini,end,country))"
   ]
  },
  {
   "cell_type": "markdown",
   "metadata": {},
   "source": [
    "# Questão 2"
   ]
  },
  {
   "cell_type": "code",
   "execution_count": 97,
   "metadata": {},
   "outputs": [],
   "source": [
    "v=[1,4,3,5,6,4]"
   ]
  },
  {
   "cell_type": "code",
   "execution_count": 98,
   "metadata": {},
   "outputs": [],
   "source": [
    "def transformar(v):\n",
    "    a=len(v)\n",
    "    y=tuple(enumerate(v))\n",
    "    for i in range(a-1):\n",
    "        yield (y[i+1][1]-y[i][1])\n"
   ]
  },
  {
   "cell_type": "code",
   "execution_count": 99,
   "metadata": {},
   "outputs": [
    {
     "data": {
      "text/plain": [
       "[3, -1, 2, 1, -2]"
      ]
     },
     "execution_count": 99,
     "metadata": {},
     "output_type": "execute_result"
    }
   ],
   "source": [
    "list(transformar(v))"
   ]
  },
  {
   "cell_type": "markdown",
   "metadata": {},
   "source": [
    "# Questão 3"
   ]
  },
  {
   "cell_type": "code",
   "execution_count": 167,
   "metadata": {},
   "outputs": [],
   "source": [
    "from itertools import tee"
   ]
  },
  {
   "cell_type": "code",
   "execution_count": 168,
   "metadata": {},
   "outputs": [],
   "source": [
    "l = [1,4,3,5]"
   ]
  },
  {
   "cell_type": "code",
   "execution_count": 169,
   "metadata": {},
   "outputs": [],
   "source": [
    "it = iter(transformar(l))"
   ]
  },
  {
   "cell_type": "code",
   "execution_count": 170,
   "metadata": {},
   "outputs": [],
   "source": [
    "it1, it2 = tee(l)"
   ]
  },
  {
   "cell_type": "code",
   "execution_count": 171,
   "metadata": {},
   "outputs": [],
   "source": [
    "z = zip(it1,it2)"
   ]
  },
  {
   "cell_type": "code",
   "execution_count": 172,
   "metadata": {},
   "outputs": [
    {
     "data": {
      "text/plain": [
       "[(1, 1), (4, 4), (3, 3), (5, 5)]"
      ]
     },
     "execution_count": 172,
     "metadata": {},
     "output_type": "execute_result"
    }
   ],
   "source": [
    "list(z)"
   ]
  },
  {
   "cell_type": "markdown",
   "metadata": {},
   "source": [
    "Na minha concepção poderiamos fazer um enumarete e fazer o mesmo processo anterior."
   ]
  },
  {
   "cell_type": "code",
   "execution_count": null,
   "metadata": {},
   "outputs": [],
   "source": []
  },
  {
   "cell_type": "code",
   "execution_count": null,
   "metadata": {},
   "outputs": [],
   "source": []
  }
 ],
 "metadata": {
  "kernelspec": {
   "display_name": "Python 3",
   "language": "python",
   "name": "python3"
  },
  "language_info": {
   "codemirror_mode": {
    "name": "ipython",
    "version": 3
   },
   "file_extension": ".py",
   "mimetype": "text/x-python",
   "name": "python",
   "nbconvert_exporter": "python",
   "pygments_lexer": "ipython3",
   "version": "3.8.5"
  }
 },
 "nbformat": 4,
 "nbformat_minor": 4
}
