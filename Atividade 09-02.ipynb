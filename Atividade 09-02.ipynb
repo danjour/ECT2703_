{
 "cells": [
  {
   "cell_type": "code",
   "execution_count": 1,
   "metadata": {},
   "outputs": [],
   "source": [
    "def rep_ele(a:int)-> bool:\n",
    "    bo=False\n",
    "    for i in range(len(a)-1):\n",
    "        if(a[i]==a[i+1]):\n",
    "            bo=True\n",
    "    return bo      \n",
    "        "
   ]
  },
  {
   "cell_type": "code",
   "execution_count": 2,
   "metadata": {},
   "outputs": [
    {
     "data": {
      "text/plain": [
       "True"
      ]
     },
     "execution_count": 2,
     "metadata": {},
     "output_type": "execute_result"
    }
   ],
   "source": [
    "rep_ele([1,2,2,3,4,4,5])"
   ]
  },
  {
   "cell_type": "code",
   "execution_count": 3,
   "metadata": {},
   "outputs": [
    {
     "data": {
      "text/plain": [
       "False"
      ]
     },
     "execution_count": 3,
     "metadata": {},
     "output_type": "execute_result"
    }
   ],
   "source": [
    "rep_ele([1,2,3,4])"
   ]
  },
  {
   "cell_type": "code",
   "execution_count": 4,
   "metadata": {},
   "outputs": [],
   "source": [
    "def gerarmatriz(n:int)->list:\n",
    "    grind=[[0] * n for i in range(n)]\n",
    "    for i in range(n):\n",
    "        grind[i][i] = 1\n",
    "    return grind "
   ]
  },
  {
   "cell_type": "code",
   "execution_count": 5,
   "metadata": {},
   "outputs": [
    {
     "data": {
      "text/plain": [
       "[[1, 0, 0], [0, 1, 0], [0, 0, 1]]"
      ]
     },
     "execution_count": 5,
     "metadata": {},
     "output_type": "execute_result"
    }
   ],
   "source": [
    "gerarmatriz(3)"
   ]
  },
  {
   "cell_type": "code",
   "execution_count": 6,
   "metadata": {},
   "outputs": [],
   "source": [
    "from typing import Tuple, TypeVar\n",
    "T1 = TypeVar('T1')\n",
    "T2 = TypeVar('T2')\n",
    "def reverter(t:Tuple[T1,T2])->Tuple[T2,T1]: \n",
    "    nova = t[::-1] \n",
    "    return nova"
   ]
  },
  {
   "cell_type": "code",
   "execution_count": 7,
   "metadata": {},
   "outputs": [
    {
     "data": {
      "text/plain": [
       "[1, 6]"
      ]
     },
     "execution_count": 7,
     "metadata": {},
     "output_type": "execute_result"
    }
   ],
   "source": [
    "reverter([6,1])"
   ]
  },
  {
   "cell_type": "code",
   "execution_count": 8,
   "metadata": {},
   "outputs": [],
   "source": [
    "def head(s:list)->list:\n",
    "    return s[0]\n",
    "def tail(s:list)->list:\n",
    "    return s[1:]\n",
    "def last(s:list)->list:\n",
    "    return s[len(s)-1]\n",
    "def init(s:list)->list:\n",
    "    return s[:len(s)-1]\n",
    "def null(s:list)->bool:\n",
    "    if(s==[]):\n",
    "        return True\n",
    "    else: \n",
    "        return False\n",
    "def take(a:int,s:list)->list:\n",
    "    try:\n",
    "        return s[:a]  \n",
    "    except:\n",
    "        return s\n",
    "def drop(a:int,s:list)->list:\n",
    "    return s[a:]  \n"
   ]
  },
  {
   "cell_type": "code",
   "execution_count": 9,
   "metadata": {},
   "outputs": [
    {
     "name": "stdout",
     "output_type": "stream",
     "text": [
      "a\n",
      "['b', 'c', 'd', 'e', 'f']\n",
      "f\n",
      "['a', 'b', 'c', 'd', 'e']\n",
      "False\n",
      "True\n",
      "['a', 'b', 'c', 'd', 'e', 'f']\n",
      "['c', 'd', 'e', 'f']\n"
     ]
    }
   ],
   "source": [
    "print(head(['a','b','c','d','e','f']))\n",
    "print(tail(['a','b','c','d','e','f']))\n",
    "print(last(['a','b','c','d','e','f']))\n",
    "print(init(['a','b','c','d','e','f']))\n",
    "print(null(['a','b','c','d','e','f']))\n",
    "print(null([]))\n",
    "print(take(9,['a','b','c','d','e','f']))\n",
    "print(drop(2,['a','b','c','d','e','f']))"
   ]
  },
  {
   "cell_type": "code",
   "execution_count": null,
   "metadata": {},
   "outputs": [],
   "source": []
  }
 ],
 "metadata": {
  "kernelspec": {
   "display_name": "Python 3",
   "language": "python",
   "name": "python3"
  },
  "language_info": {
   "codemirror_mode": {
    "name": "ipython",
    "version": 3
   },
   "file_extension": ".py",
   "mimetype": "text/x-python",
   "name": "python",
   "nbconvert_exporter": "python",
   "pygments_lexer": "ipython3",
   "version": "3.8.5"
  }
 },
 "nbformat": 4,
 "nbformat_minor": 4
}
