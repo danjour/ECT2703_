{
 "cells": [
  {
   "cell_type": "code",
   "execution_count": 91,
   "metadata": {},
   "outputs": [],
   "source": [
    "from bs4 import BeautifulSoup\n",
    "import requests\n",
    "import pandas as pd"
   ]
  },
  {
   "cell_type": "code",
   "execution_count": 67,
   "metadata": {},
   "outputs": [],
   "source": [
    "url='https://pt.wikipedia.org/wiki/Lista_de_universidades_federais_do_Brasil'"
   ]
  },
  {
   "cell_type": "code",
   "execution_count": 68,
   "metadata": {},
   "outputs": [],
   "source": [
    "r=requests.get(url)"
   ]
  },
  {
   "cell_type": "code",
   "execution_count": 69,
   "metadata": {},
   "outputs": [],
   "source": [
    "soup = BeautifulSoup(r.text, 'html.parser')"
   ]
  },
  {
   "cell_type": "code",
   "execution_count": 82,
   "metadata": {},
   "outputs": [],
   "source": [
    "tabela=soup.find('tbody')"
   ]
  },
  {
   "cell_type": "code",
   "execution_count": 269,
   "metadata": {},
   "outputs": [],
   "source": [
    "rows=tabela.find_all('tr')"
   ]
  },
  {
   "cell_type": "code",
   "execution_count": 179,
   "metadata": {},
   "outputs": [],
   "source": [
    "columns=[v.text.replace('\\n','').replace(' ','_').replace('-','_') for v in rows[0].find_all('th')]"
   ]
  },
  {
   "cell_type": "code",
   "execution_count": 244,
   "metadata": {},
   "outputs": [],
   "source": [
    "columns=['num','Região',\n",
    " 'Unidade_federativa',\n",
    " 'Nome',\n",
    " 'Sigla',\n",
    " 'Discentes_de_graduação',\n",
    " 'Discentes_de_pós_graduação',\n",
    " 'Fundação']"
   ]
  },
  {
   "cell_type": "code",
   "execution_count": 140,
   "metadata": {},
   "outputs": [],
   "source": [
    "from collections import namedtuple"
   ]
  },
  {
   "cell_type": "code",
   "execution_count": 303,
   "metadata": {},
   "outputs": [],
   "source": [
    "def lertudo():\n",
    "    UF = namedtuple('UF',columns)\n",
    "    for i in range(1,len(rows)):\n",
    "        tds=rows[i].find_all('td')\n",
    "        yield UF(*([td.text.replace('\\n','').replace('\\xa0','') for td in tds]))\n"
   ]
  },
  {
   "cell_type": "code",
   "execution_count": 304,
   "metadata": {},
   "outputs": [
    {
     "data": {
      "text/plain": [
       "[UF(num='1', Região='Centro-oeste', Unidade_federativa='Distrito Federal', Nome='Universidade de Brasília', Sigla='UnB', Discentes_de_graduação='40.662[1]', Discentes_de_pós_graduação='', Fundação='1962'),\n",
       " UF(num='2', Região='Centro-oeste', Unidade_federativa='Mato Grosso do Sul', Nome='Universidade Federal da Grande Dourados', Sigla='UFGD', Discentes_de_graduação='8.000', Discentes_de_pós_graduação='', Fundação='2005'),\n",
       " UF(num='3', Região='Centro-oeste', Unidade_federativa='Goiás', Nome='Universidade Federal de Goiás', Sigla='UFG', Discentes_de_graduação='25.846 (2011)[2]', Discentes_de_pós_graduação='', Fundação='1960'),\n",
       " UF(num='4', Região='Centro-oeste', Unidade_federativa='Mato Grosso', Nome='Universidade Federal de Mato Grosso', Sigla='UFMT', Discentes_de_graduação='22.160 (2008)', Discentes_de_pós_graduação='', Fundação='1970'),\n",
       " UF(num='5', Região='Centro-oeste', Unidade_federativa='Mato Grosso do Sul', Nome='Universidade Federal de Mato Grosso do Sul', Sigla='UFMS', Discentes_de_graduação='13.420', Discentes_de_pós_graduação='', Fundação='1979'),\n",
       " UF(num='6', Região='Centro-oeste', Unidade_federativa='Goiás', Nome='Universidade Federal de Catalão', Sigla='UFCat', Discentes_de_graduação='', Discentes_de_pós_graduação='', Fundação='2018'),\n",
       " UF(num='7', Região='Centro-oeste', Unidade_federativa='Goiás', Nome='Universidade Federal de Jataí', Sigla='UFJ', Discentes_de_graduação='4.000', Discentes_de_pós_graduação='', Fundação='2018'),\n",
       " UF(num='8', Região='Centro-oeste', Unidade_federativa='Mato Grosso', Nome='Universidade Federal de Rondonópolis', Sigla='UFR', Discentes_de_graduação='5.082', Discentes_de_pós_graduação='', Fundação='2018'),\n",
       " UF(num='9', Região='Nordeste', Unidade_federativa='Bahia', Nome='Universidade Federal da Bahia', Sigla='UFBA', Discentes_de_graduação='27.549', Discentes_de_pós_graduação='', Fundação='1946'),\n",
       " UF(num='10', Região='Nordeste', Unidade_federativa='Bahia', Nome='Universidade Federal do Sul da Bahia', Sigla='UFSB', Discentes_de_graduação='1.000[3]', Discentes_de_pós_graduação='', Fundação='2013[4]'),\n",
       " UF(num='11', Região='Nordeste', Unidade_federativa='Bahia', Nome='Universidade Federal do Recôncavo da Bahia', Sigla='UFRB', Discentes_de_graduação='8.514 (2012)', Discentes_de_pós_graduação='', Fundação='2005[5]'),\n",
       " UF(num='12', Região='Nordeste', Unidade_federativa='CearáBahia', Nome='Universidade Federal da Lusofonia Afro-Brasileira', Sigla='UNILAB', Discentes_de_graduação='4.166', Discentes_de_pós_graduação='', Fundação='2010'),\n",
       " UF(num='13', Região='Nordeste', Unidade_federativa='Paraíba', Nome='Universidade Federal da Paraíba', Sigla='UFPB', Discentes_de_graduação='22.238', Discentes_de_pós_graduação='', Fundação='1955'),\n",
       " UF(num='14', Região='Nordeste', Unidade_federativa='Ceará', Nome='Universidade Federal do Cariri', Sigla='UFCA', Discentes_de_graduação='3.618', Discentes_de_pós_graduação='', Fundação='2013'),\n",
       " UF(num='15', Região='Nordeste', Unidade_federativa='Alagoas', Nome='Universidade Federal de Alagoas', Sigla='UFAL', Discentes_de_graduação='28.471 (2010)', Discentes_de_pós_graduação='', Fundação='1961'),\n",
       " UF(num='16', Região='Nordeste', Unidade_federativa='Paraíba', Nome='Universidade Federal de Campina Grande', Sigla='UFCG', Discentes_de_graduação='17.800[6]', Discentes_de_pós_graduação='', Fundação='2002'),\n",
       " UF(num='17', Região='Nordeste', Unidade_federativa='Pernambuco', Nome='Universidade Federal de Pernambuco', Sigla='UFPE', Discentes_de_graduação='31.424', Discentes_de_pós_graduação='', Fundação='1946'),\n",
       " UF(num='18', Região='Nordeste', Unidade_federativa='Sergipe', Nome='Universidade Federal de Sergipe', Sigla='UFS', Discentes_de_graduação='30.000', Discentes_de_pós_graduação='', Fundação='1968[7]'),\n",
       " UF(num='19', Região='Nordeste', Unidade_federativa='Ceará', Nome='Universidade Federal do Ceará', Sigla='UFC', Discentes_de_graduação='42.443 (2012)', Discentes_de_pós_graduação='', Fundação='1954'),\n",
       " UF(num='20', Região='Nordeste', Unidade_federativa='Maranhão', Nome='Universidade Federal do Maranhão', Sigla='UFMA', Discentes_de_graduação='26.500', Discentes_de_pós_graduação='', Fundação='1966'),\n",
       " UF(num='21', Região='Nordeste', Unidade_federativa='Bahia', Nome='Universidade Federal do Oeste da Bahia', Sigla='UFOB', Discentes_de_graduação='', Discentes_de_pós_graduação='', Fundação='2013'),\n",
       " UF(num='22', Região='Nordeste', Unidade_federativa='Piauí', Nome='Universidade Federal do Piauí', Sigla='UFPI', Discentes_de_graduação='15.930', Discentes_de_pós_graduação='', Fundação='1968'),\n",
       " UF(num='23', Região='Nordeste', Unidade_federativa='Rio Grande do Norte', Nome='Universidade Federal do Rio Grande do Norte', Sigla='UFRN', Discentes_de_graduação='36.000', Discentes_de_pós_graduação='', Fundação='1958'),\n",
       " UF(num='24', Região='Nordeste', Unidade_federativa='PernambucoBahiaPiauí', Nome='Universidade Federal do Vale do São Francisco', Sigla='UNIVASF', Discentes_de_graduação='4.720', Discentes_de_pós_graduação='', Fundação='2002'),\n",
       " UF(num='25', Região='Nordeste', Unidade_federativa='Pernambuco', Nome='Universidade Federal Rural de Pernambuco', Sigla='UFRPE', Discentes_de_graduação='12.476 (2016)[8].', Discentes_de_pós_graduação='', Fundação='1947'),\n",
       " UF(num='26', Região='Nordeste', Unidade_federativa='Rio Grande do Norte', Nome='Universidade Federal Rural do Semi-Árido', Sigla='UFERSA', Discentes_de_graduação='8.267 (2016)', Discentes_de_pós_graduação='', Fundação='1968'),\n",
       " UF(num='27', Região='Norte', Unidade_federativa='Rondônia', Nome='Universidade Federal de Rondônia', Sigla='UNIR', Discentes_de_graduação='7.614 (2010)[9]', Discentes_de_pós_graduação='', Fundação='1982'),\n",
       " UF(num='28', Região='Norte', Unidade_federativa='Roraima', Nome='Universidade Federal de Roraima', Sigla='UFRR', Discentes_de_graduação='4.800', Discentes_de_pós_graduação='', Fundação='1989'),\n",
       " UF(num='29', Região='Norte', Unidade_federativa='Acre', Nome='Universidade Federal do Acre', Sigla='UFAC', Discentes_de_graduação='', Discentes_de_pós_graduação='', Fundação='1970'),\n",
       " UF(num='30', Região='Norte', Unidade_federativa='Amapá', Nome='Universidade Federal do Amapá', Sigla='UNIFAP', Discentes_de_graduação='', Discentes_de_pós_graduação='', Fundação='1990'),\n",
       " UF(num='31', Região='Norte', Unidade_federativa='Amazonas', Nome='Universidade Federal do Amazonas', Sigla='UFAM', Discentes_de_graduação='30.000', Discentes_de_pós_graduação='', Fundação='1913'),\n",
       " UF(num='32', Região='Norte', Unidade_federativa='Pará', Nome='Universidade Federal do Oeste do Pará', Sigla='UFOPA', Discentes_de_graduação='5.000', Discentes_de_pós_graduação='', Fundação='2009'),\n",
       " UF(num='33', Região='Norte', Unidade_federativa='Pará', Nome='Universidade Federal do Pará', Sigla='UFPA', Discentes_de_graduação='40.000', Discentes_de_pós_graduação='', Fundação='1957'),\n",
       " UF(num='34', Região='Norte', Unidade_federativa='Tocantins', Nome='Universidade Federal do Tocantins', Sigla='UFT', Discentes_de_graduação='10.000', Discentes_de_pós_graduação='', Fundação='2000'),\n",
       " UF(num='35', Região='Norte', Unidade_federativa='Pará', Nome='Universidade Federal Rural da Amazônia', Sigla='UFRA', Discentes_de_graduação='11.000 (2020)', Discentes_de_pós_graduação='', Fundação='2002'),\n",
       " UF(num='36', Região='Norte', Unidade_federativa='Pará', Nome='Universidade Federal do Sul e Sudeste do Pará', Sigla='UNIFESSPA', Discentes_de_graduação='10.070', Discentes_de_pós_graduação='', Fundação='1971'),\n",
       " UF(num='37', Região='Sudeste', Unidade_federativa='Minas Gerais', Nome='Universidade Federal de Alfenas', Sigla='UNIFAL-MG', Discentes_de_graduação='6.890', Discentes_de_pós_graduação='', Fundação='1914'),\n",
       " UF(num='38', Região='Sudeste', Unidade_federativa='Minas Gerais', Nome='Universidade Federal de Itajubá', Sigla='UNIFEI', Discentes_de_graduação='6.272', Discentes_de_pós_graduação='', Fundação='2002'),\n",
       " UF(num='39', Região='Sudeste', Unidade_federativa='Minas Gerais', Nome='Universidade Federal de Juiz de Fora', Sigla='UFJF', Discentes_de_graduação='18.868', Discentes_de_pós_graduação='', Fundação='1960'),\n",
       " UF(num='40', Região='Sudeste', Unidade_federativa='Minas Gerais', Nome='Universidade Federal de Lavras', Sigla='UFLA', Discentes_de_graduação='16.581', Discentes_de_pós_graduação='', Fundação='1994'),\n",
       " UF(num='41', Região='Sudeste', Unidade_federativa='Minas Gerais', Nome='Universidade Federal de Minas Gerais', Sigla='UFMG', Discentes_de_graduação='49.959', Discentes_de_pós_graduação='', Fundação='1927'),\n",
       " UF(num='42', Região='Sudeste', Unidade_federativa='Minas Gerais', Nome='Universidade Federal de Ouro Preto', Sigla='UFOP', Discentes_de_graduação='18.174', Discentes_de_pós_graduação='', Fundação='1969'),\n",
       " UF(num='43', Região='Sudeste', Unidade_federativa='São Paulo', Nome='Universidade Federal de São Carlos', Sigla='UFSCar', Discentes_de_graduação='24.825 (2016)', Discentes_de_pós_graduação='', Fundação='1968'),\n",
       " UF(num='44', Região='Sudeste', Unidade_federativa='Minas Gerais', Nome='Universidade Federal de São João del-Rei', Sigla='UFSJ', Discentes_de_graduação='13.979', Discentes_de_pós_graduação='', Fundação='1953'),\n",
       " UF(num='45', Região='Sudeste', Unidade_federativa='São Paulo', Nome='Universidade Federal de São Paulo', Sigla='UNIFESP', Discentes_de_graduação='18.143', Discentes_de_pós_graduação='', Fundação='1994'),\n",
       " UF(num='46', Região='Sudeste', Unidade_federativa='Minas Gerais', Nome='Universidade Federal de Uberlândia', Sigla='UFU', Discentes_de_graduação='22.453', Discentes_de_pós_graduação='', Fundação='1957'),\n",
       " UF(num='47', Região='Sudeste', Unidade_federativa='Minas Gerais', Nome='Universidade Federal de Viçosa', Sigla='UFV', Discentes_de_graduação='20.970', Discentes_de_pós_graduação='', Fundação='1969'),\n",
       " UF(num='48', Região='Sudeste', Unidade_federativa='São Paulo', Nome='Universidade Federal do ABC', Sigla='UFABC', Discentes_de_graduação='16.450 (2017)', Discentes_de_pós_graduação='', Fundação='2005'),\n",
       " UF(num='49', Região='Sudeste', Unidade_federativa='Espírito Santo', Nome='Universidade Federal do Espírito Santo', Sigla='UFES', Discentes_de_graduação='18.590', Discentes_de_pós_graduação='', Fundação='1954'),\n",
       " UF(num='50', Região='Sudeste', Unidade_federativa='Rio de Janeiro', Nome='Universidade Federal do Estado do Rio de Janeiro', Sigla='UNIRIO', Discentes_de_graduação='', Discentes_de_pós_graduação='', Fundação='1979'),\n",
       " UF(num='51', Região='Sudeste', Unidade_federativa='Rio de Janeiro', Nome='Universidade Federal do Rio de Janeiro', Sigla='UFRJ', Discentes_de_graduação='39.000 (2015)', Discentes_de_pós_graduação='', Fundação='1920'),\n",
       " UF(num='52', Região='Sudeste', Unidade_federativa='Minas Gerais', Nome='Universidade Federal do Triângulo Mineiro', Sigla='UFTM', Discentes_de_graduação='5.752', Discentes_de_pós_graduação='', Fundação='1953'),\n",
       " UF(num='53', Região='Sudeste', Unidade_federativa='Minas Gerais', Nome='Universidade Federal dos Vales do Jequitinhonha e Mucuri', Sigla='UFVJM', Discentes_de_graduação='8.000', Discentes_de_pós_graduação='', Fundação='1953'),\n",
       " UF(num='54', Região='Sudeste', Unidade_federativa='Rio de Janeiro', Nome='Universidade Federal Fluminense', Sigla='UFF', Discentes_de_graduação='59267 (2016)[10]', Discentes_de_pós_graduação='', Fundação='1960'),\n",
       " UF(num='55', Região='Sudeste', Unidade_federativa='Rio de Janeiro', Nome='Universidade Federal Rural do Rio de Janeiro', Sigla='UFRRJ', Discentes_de_graduação='24.000', Discentes_de_pós_graduação='2.011', Fundação='1943'),\n",
       " UF(num='56', Região='Sul', Unidade_federativa='Paraná', Nome='Universidade Tecnológica Federal do Paraná', Sigla='UTFPR', Discentes_de_graduação='31.013', Discentes_de_pós_graduação='', Fundação='1909'),\n",
       " UF(num='57', Região='Sul', Unidade_federativa='Santa CatarinaParanáRio Grande do Sul', Nome='Universidade Federal da Fronteira Sul', Sigla='UFFS', Discentes_de_graduação='7.723 (2018)[11]', Discentes_de_pós_graduação='', Fundação='2009'),\n",
       " UF(num='58', Região='Sul', Unidade_federativa='Paraná', Nome='Universidade Federal da Integração Latino-Americana', Sigla='UNILA', Discentes_de_graduação='3.887[12]', Discentes_de_pós_graduação='', Fundação='2010'),\n",
       " UF(num='59', Região='Sul', Unidade_federativa='Rio Grande do Sul', Nome='Universidade Federal de Ciências da Saúde de Porto Alegre', Sigla='UFCSPA', Discentes_de_graduação='', Discentes_de_pós_graduação='', Fundação='1953'),\n",
       " UF(num='60', Região='Sul', Unidade_federativa='Rio Grande do Sul', Nome='Universidade Federal de Pelotas', Sigla='UFPel', Discentes_de_graduação='22.500', Discentes_de_pós_graduação='', Fundação='1969'),\n",
       " UF(num='61', Região='Sul', Unidade_federativa='Santa Catarina', Nome='Universidade Federal de Santa Catarina', Sigla='UFSC', Discentes_de_graduação='45.006', Discentes_de_pós_graduação='', Fundação='1956'),\n",
       " UF(num='62', Região='Sul', Unidade_federativa='Rio Grande do Sul', Nome='Universidade Federal de Santa Maria', Sigla='UFSM', Discentes_de_graduação='28.170', Discentes_de_pós_graduação='', Fundação='1960'),\n",
       " UF(num='63', Região='Sul', Unidade_federativa='Rio Grande do Sul', Nome='Universidade Federal do Pampa', Sigla='UNIPAMPA', Discentes_de_graduação='9.435 (2016)[13]', Discentes_de_pós_graduação='', Fundação='2008'),\n",
       " UF(num='64', Região='Sul', Unidade_federativa='Paraná', Nome='Universidade Federal do Paraná', Sigla='UFPR', Discentes_de_graduação='39.725 (2016) [14]', Discentes_de_pós_graduação='', Fundação='1912'),\n",
       " UF(num='65', Região='Sul', Unidade_federativa='Rio Grande do Sul', Nome='Universidade Federal do Rio Grande', Sigla='FURG', Discentes_de_graduação='11.416 (2012)[15]', Discentes_de_pós_graduação='', Fundação='1969'),\n",
       " UF(num='66', Região='Sul', Unidade_federativa='Rio Grande do Sul', Nome='Universidade Federal do Rio Grande do Sul', Sigla='UFRGS', Discentes_de_graduação='28.497 (2018) [16]', Discentes_de_pós_graduação='', Fundação='1934'),\n",
       " UF(num='67', Região='Nordeste', Unidade_federativa='Pernambuco', Nome='Universidade Federal do Agreste de Pernambuco', Sigla='UFAPE', Discentes_de_graduação='-', Discentes_de_pós_graduação='', Fundação='2018[17]'),\n",
       " UF(num='68', Região='Nordeste', Unidade_federativa='Piauí', Nome='Universidade Federal do Delta do Parnaíba', Sigla='UFDPar', Discentes_de_graduação='-', Discentes_de_pós_graduação='', Fundação='2018[17]'),\n",
       " UF(num='69', Região='Norte', Unidade_federativa='Tocantins', Nome='Universidade Federal do Norte do Tocantins', Sigla='UFNT', Discentes_de_graduação='', Discentes_de_pós_graduação='', Fundação='2019')]"
      ]
     },
     "execution_count": 304,
     "metadata": {},
     "output_type": "execute_result"
    }
   ],
   "source": [
    "list(lertudo())"
   ]
  },
  {
   "cell_type": "code",
   "execution_count": null,
   "metadata": {},
   "outputs": [],
   "source": []
  }
 ],
 "metadata": {
  "kernelspec": {
   "display_name": "Python 3",
   "language": "python",
   "name": "python3"
  },
  "language_info": {
   "codemirror_mode": {
    "name": "ipython",
    "version": 3
   },
   "file_extension": ".py",
   "mimetype": "text/x-python",
   "name": "python",
   "nbconvert_exporter": "python",
   "pygments_lexer": "ipython3",
   "version": "3.7.3"
  }
 },
 "nbformat": 4,
 "nbformat_minor": 2
}
