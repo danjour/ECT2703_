{
 "cells": [
  {
   "cell_type": "code",
   "execution_count": 1,
   "metadata": {},
   "outputs": [],
   "source": [
    "from bs4 import BeautifulSoup\n",
    "import requests\n",
    "import csv\n",
    "from collections import namedtuple\n",
    "import googlemaps\n"
   ]
  },
  {
   "cell_type": "code",
   "execution_count": 2,
   "metadata": {},
   "outputs": [],
   "source": [
    "url='https://pt.wikipedia.org/wiki/Lista_de_universidades_federais_do_Brasil'\n",
    "#URL da página que vamos utilizar para puxar as informações das faculdades."
   ]
  },
  {
   "cell_type": "code",
   "execution_count": 3,
   "metadata": {},
   "outputs": [],
   "source": [
    "r=requests.get(url)\n",
    "#Aqui usando a biblioteca requests, vamos fazer uma requisição para o link da Wikipedia"
   ]
  },
  {
   "cell_type": "code",
   "execution_count": 4,
   "metadata": {},
   "outputs": [],
   "source": [
    "soup = BeautifulSoup(r.text, 'html.parser')\n",
    "#Pegamos todo o arquivo HTML\n"
   ]
  },
  {
   "cell_type": "code",
   "execution_count": 5,
   "metadata": {},
   "outputs": [],
   "source": [
    "tabela=soup.find('tbody')\n",
    "#Aqui pego somente a parte que importa, no caso a tbody que é a que traz a lista."
   ]
  },
  {
   "cell_type": "code",
   "execution_count": 6,
   "metadata": {},
   "outputs": [],
   "source": [
    "rows=tabela.find_all('tr')"
   ]
  },
  {
   "cell_type": "code",
   "execution_count": 7,
   "metadata": {},
   "outputs": [],
   "source": [
    "columns=['num','Região',\n",
    " 'Unidade_federativa',\n",
    " 'Nome',\n",
    " 'Sigla',\n",
    " 'Discentes_de_graduação',\n",
    " 'Discentes_de_pós_graduação',\n",
    " 'Fundação' ]"
   ]
  },
  {
   "cell_type": "code",
   "execution_count": 8,
   "metadata": {},
   "outputs": [],
   "source": [
    "def lertudo():\n",
    "    UF = namedtuple('UF',columns)\n",
    "    for i in range(1,len(rows)):\n",
    "        tds=rows[i].find_all('td')\n",
    "        campo=([td.text.replace('\\n','').replace('\\xa0','') for td in tds])\n",
    "        yield UF(*campo)\n",
    "            \n",
    "#Aqui faço a leitura dos campos e faço o armazenamento dos dados numa namedtuple.\n",
    "\n",
    "it = list( [(d.num, d.Região,d.Unidade_federativa,d.Nome,d.Sigla,d.Discentes_de_graduação,d.Discentes_de_pós_graduação,d.Fundação)\n",
    "         for d in lertudo()])   "
   ]
  },
  {
   "cell_type": "code",
   "execution_count": 9,
   "metadata": {},
   "outputs": [],
   "source": [
    "def gerar_rest(lat,long):\n",
    "    lista=[lat,long]\n",
    "    print(lista)\n",
    "    for i in range(len(lista)):\n",
    "        places_result  = gmaps.places_nearby(location=lista, radius = 100, open_now =False , type = 'restaurant')\n",
    "        for place in places_result['results']:\n",
    "            my_place_id = place['place_id']\n",
    "            my_fields = ['name']\n",
    "            places_details  = gmaps.place(place_id= my_place_id , fields= my_fields)\n",
    "            print(places_details['result'])\n",
    "#Aqui, por mais que não tenha dado certo iria trazer os restaurantes próximos, a ideia para mostrar a distância entre o restaurante \n",
    "#e a faculdade seria usar a API distancematrix, e faria uma requisição passando a talvez o nome da faculdade e o nome do restaurante\n",
    "#ou a lat, long da faculdade e a do restaurante."
   ]
  },
  {
   "cell_type": "code",
   "execution_count": 10,
   "metadata": {},
   "outputs": [],
   "source": [
    "def gerar_end(univ):\n",
    "    enderecos=[]\n",
    "    params={'key':'KEY_API_HERE','address':univ}\n",
    "    base_url='https://maps.googleapis.com/maps/api/geocode/json?'\n",
    "    response=requests.get(base_url,params=params).json() #Fazendo a requisição a API.\n",
    "    response.keys()\n",
    "    if response['status']=='OK':\n",
    "        geometry=response['results'][0]['geometry']\n",
    "        enderecos.append([geometry['location']['lat'],geometry['location']['lng'],response['results'][0]['formatted_address']])\n",
    "        \n",
    "    return enderecos\n",
    "\n",
    "#Essa parte, como na outra recebe uma lista e faz uma resquisição a API geocode, e me retorna os dados como lat,long e endereço completo\n",
    "#da faculdade, os dados são armazenados numa lista."
   ]
  },
  {
   "cell_type": "code",
   "execution_count": 11,
   "metadata": {},
   "outputs": [],
   "source": [
    "def arrumar(lat,long,end,_all,i):\n",
    "    lat=str(lat).replace('(','').replace(')','')\n",
    "    long=str(long).replace('(','').replace(')','')\n",
    "    end=str(end).replace('(','').replace(')','')\n",
    "    wor=(str(it[i]).strip('[]').replace('(','').replace(')','').replace('\"',''),lat,long,end)\n",
    "    #Aqui é tão somente para tirar alguns caractéres das palavras.\n",
    "    return wor"
   ]
  },
  {
   "cell_type": "code",
   "execution_count": 12,
   "metadata": {},
   "outputs": [],
   "source": [
    "def gerar_csv():\n",
    "    arq = open('Atividade_Final.csv', 'w', newline='', encoding='iso-8859-1')\n",
    "    #Abertura do arquivo CSV (Que sempre vai sobrescrever)\n",
    "    obj = csv.writer(arq)\n",
    "    head=['Número','Região','Unidade Federativa','Nome','Sigla','Discentes de graduação','Discentes de pós graduação','Fundação','Lat','Long','End' ]\n",
    "    #Aqui eu salvo o cabeçario das colunas.\n",
    "    obj.writerow(head)\n",
    "    i=0\n",
    "    for u in lertudo():\n",
    "        #Aqui faço a abertura da namedtuple.\n",
    "        lat,long,end=(zip(*gerar_end(u.Nome)))\n",
    "        #Aqui chamo a função que me mostra os endereços e passo como argumento a namedtuple UF com os nomes da faculdades.\n",
    "        #Isso me gera um arquivo compactado, faço uso do zip* para descompactar e colocar nas respectivas variáveis\n",
    "        obj.writerow(arrumar(lat,long,end,it,i))\n",
    "        i=i+1\n",
    "        #Escrevo os dados que foram gerados acima, mas antes passo pela função arrumar que vai fazer uma limpeza nos dados.\n",
    "    \n",
    "    arq.close()\n",
    "    #O arquivo então é encerrado e a mensagem aparece.\n",
    "    print(\"Exportação concluida.\")"
   ]
  },
  {
   "cell_type": "code",
   "execution_count": 13,
   "metadata": {},
   "outputs": [
    {
     "name": "stdout",
     "output_type": "stream",
     "text": [
      "Exportação concluida.\n"
     ]
    }
   ],
   "source": [
    "gerar_csv()"
   ]
  }
 ],
 "metadata": {
  "kernelspec": {
   "display_name": "Python 3",
   "language": "python",
   "name": "python3"
  },
  "language_info": {
   "codemirror_mode": {
    "name": "ipython",
    "version": 3
   },
   "file_extension": ".py",
   "mimetype": "text/x-python",
   "name": "python",
   "nbconvert_exporter": "python",
   "pygments_lexer": "ipython3",
   "version": "3.8.5"
  }
 },
 "nbformat": 4,
 "nbformat_minor": 4
}
